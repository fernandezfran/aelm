{
 "cells": [
  {
   "cell_type": "markdown",
   "metadata": {},
   "source": [
    "# Tutorial"
   ]
  },
  {
   "cell_type": "markdown",
   "metadata": {},
   "source": [
    "First we import libraries that are to be used before or after running **aelm**"
   ]
  },
  {
   "cell_type": "code",
   "execution_count": 1,
   "metadata": {},
   "outputs": [],
   "source": [
    "import os\n",
    "\n",
    "import matplotlib.pyplot as plt\n",
    "import numpy as np\n",
    "import pandas as pd"
   ]
  },
  {
   "cell_type": "markdown",
   "metadata": {},
   "source": [
    "In the **aelm** package we have a function that allows us to perform local minimization of accelerated exploration of local minima, we import it"
   ]
  },
  {
   "cell_type": "code",
   "execution_count": 2,
   "metadata": {},
   "outputs": [],
   "source": [
    "from aelm import aelm"
   ]
  },
  {
   "cell_type": "markdown",
   "metadata": {},
   "source": [
    "Now we have to add some files to our working directory: a lammps executable (lmp), a minimization input file (in.minimization) and a biased trajectory in xyz format (biased_traj.xyz)."
   ]
  },
  {
   "cell_type": "code",
   "execution_count": 3,
   "metadata": {},
   "outputs": [
    {
     "name": "stdout",
     "output_type": "stream",
     "text": [
      "biased_traj.xyz  example.ipynb\tffield.reax  in.minimization  lmp\n"
     ]
    }
   ],
   "source": [
    "!ls"
   ]
  },
  {
   "cell_type": "markdown",
   "metadata": {},
   "source": [
    "My lammps executable is compiled with OMP so I can define from here how many threads I want it to run on"
   ]
  },
  {
   "cell_type": "code",
   "execution_count": 4,
   "metadata": {},
   "outputs": [],
   "source": [
    "os.environ[\"OMP_NUM_THREADS\"] = \"2\""
   ]
  },
  {
   "cell_type": "markdown",
   "metadata": {},
   "source": [
    "Each one of the entries to the following function is explained in the API."
   ]
  },
  {
   "cell_type": "code",
   "execution_count": 5,
   "metadata": {},
   "outputs": [
    {
     "name": "stdout",
     "output_type": "stream",
     "text": [
      "CPU times: user 1.51 s, sys: 1.64 s, total: 3.15 s\n",
      "Wall time: 36min 29s\n"
     ]
    }
   ],
   "source": [
    "%%time\n",
    "df = aelm(\n",
    "    \"biased_traj.xyz\",\n",
    "    \"dump.minimized.lammpstrj\",\n",
    "    {\"box\": np.full(3, 10.609089), \"type\": {\"Si\": 1, \"Li\": 2}},\n",
    "    lmp_flags={\"sf\": \"omp\"},\n",
    "    verbose=False,\n",
    ")"
   ]
  },
  {
   "cell_type": "code",
   "execution_count": 6,
   "metadata": {},
   "outputs": [
    {
     "data": {
      "text/html": [
       "<div>\n",
       "<style scoped>\n",
       "    .dataframe tbody tr th:only-of-type {\n",
       "        vertical-align: middle;\n",
       "    }\n",
       "\n",
       "    .dataframe tbody tr th {\n",
       "        vertical-align: top;\n",
       "    }\n",
       "\n",
       "    .dataframe thead th {\n",
       "        text-align: right;\n",
       "    }\n",
       "</style>\n",
       "<table border=\"1\" class=\"dataframe\">\n",
       "  <thead>\n",
       "    <tr style=\"text-align: right;\">\n",
       "      <th></th>\n",
       "      <th>initial</th>\n",
       "      <th>next_to_last</th>\n",
       "      <th>final</th>\n",
       "    </tr>\n",
       "  </thead>\n",
       "  <tbody>\n",
       "    <tr>\n",
       "      <th>0</th>\n",
       "      <td>-4214.869629</td>\n",
       "      <td>-4516.806641</td>\n",
       "      <td>-4516.806641</td>\n",
       "    </tr>\n",
       "    <tr>\n",
       "      <th>1</th>\n",
       "      <td>-4479.676270</td>\n",
       "      <td>-4752.242188</td>\n",
       "      <td>-4752.242676</td>\n",
       "    </tr>\n",
       "    <tr>\n",
       "      <th>2</th>\n",
       "      <td>-4415.433594</td>\n",
       "      <td>-4775.437988</td>\n",
       "      <td>-4775.437988</td>\n",
       "    </tr>\n",
       "    <tr>\n",
       "      <th>3</th>\n",
       "      <td>-4460.760254</td>\n",
       "      <td>-4817.204590</td>\n",
       "      <td>-4817.204590</td>\n",
       "    </tr>\n",
       "    <tr>\n",
       "      <th>4</th>\n",
       "      <td>-4460.475586</td>\n",
       "      <td>-4814.483398</td>\n",
       "      <td>-4814.483398</td>\n",
       "    </tr>\n",
       "  </tbody>\n",
       "</table>\n",
       "</div>"
      ],
      "text/plain": [
       "       initial  next_to_last        final\n",
       "0 -4214.869629  -4516.806641 -4516.806641\n",
       "1 -4479.676270  -4752.242188 -4752.242676\n",
       "2 -4415.433594  -4775.437988 -4775.437988\n",
       "3 -4460.760254  -4817.204590 -4817.204590\n",
       "4 -4460.475586  -4814.483398 -4814.483398"
      ]
     },
     "execution_count": 6,
     "metadata": {},
     "output_type": "execute_result"
    }
   ],
   "source": [
    "df.head()"
   ]
  },
  {
   "cell_type": "markdown",
   "metadata": {},
   "source": [
    "Now that we have a pandas DataFrame with the initial, next to last and final energies, we can save the results to a csv file, for example:"
   ]
  },
  {
   "cell_type": "code",
   "execution_count": 7,
   "metadata": {},
   "outputs": [],
   "source": [
    "df.to_csv(\"example.csv\", index=False)"
   ]
  },
  {
   "cell_type": "code",
   "execution_count": 8,
   "metadata": {},
   "outputs": [
    {
     "name": "stdout",
     "output_type": "stream",
     "text": [
      "initial,next_to_last,final\n",
      "-4214.8696,-4516.8066,-4516.8066\n",
      "-4479.6763,-4752.242,-4752.2427\n",
      "-4415.4336,-4775.438,-4775.438\n",
      "-4460.7603,-4817.2046,-4817.2046\n",
      "-4460.4756,-4814.4834,-4814.4834\n",
      "-4439.251,-4812.3984,-4812.3984\n",
      "-4439.0127,-4798.753,-4798.7534\n",
      "-4486.269,-4804.57,-4804.57\n",
      "-4471.069,-4812.3926,-4812.3926\n"
     ]
    }
   ],
   "source": [
    "!head example.csv"
   ]
  },
  {
   "cell_type": "markdown",
   "metadata": {},
   "source": [
    "or plot a histogram to see the distribution of energies:"
   ]
  },
  {
   "cell_type": "code",
   "execution_count": 9,
   "metadata": {},
   "outputs": [
    {
     "data": {
      "image/png": "[encoded data removed]",
      "text/plain": [
       "<Figure size 640x480 with 1 Axes>"
      ]
     },
     "metadata": {},
     "output_type": "display_data"
    }
   ],
   "source": [
    "df.plot.hist(by=[\"initial\", \"next_to_last\", \"final\"], bins=75)\n",
    "\n",
    "plt.xlabel(\"Energy\")\n",
    "plt.savefig(\"example.png\", dpi=200)\n",
    "plt.show()"
   ]
  },
  {
   "cell_type": "markdown",
   "metadata": {},
   "source": [
    "If we list the directory files again, in addition to those created in this jupyter notebook, we have a `lammpstrj` file where each of the atomic structures to which each final energy of the df corresponds are listed in order."
   ]
  },
  {
   "cell_type": "code",
   "execution_count": 10,
   "metadata": {},
   "outputs": [
    {
     "name": "stdout",
     "output_type": "stream",
     "text": [
      "biased_traj.xyz\t\t  example.csv\t example.png  in.minimization\n",
      "dump.minimized.lammpstrj  example.ipynb  ffield.reax  lmp\n"
     ]
    }
   ],
   "source": [
    "!ls"
   ]
  },
  {
   "cell_type": "code",
   "execution_count": null,
   "metadata": {},
   "outputs": [],
   "source": []
  }
 ],
 "metadata": {
  "kernelspec": {
   "display_name": "Python 3",
   "language": "python",
   "name": "python3"
  },
  "language_info": {
   "codemirror_mode": {
    "name": "ipython",
    "version": 3
   },
   "file_extension": ".py",
   "mimetype": "text/x-python",
   "name": "python",
   "nbconvert_exporter": "python",
   "pygments_lexer": "ipython3",
   "version": "3.8.10"
  }
 },
 "nbformat": 4,
 "nbformat_minor": 4
}
